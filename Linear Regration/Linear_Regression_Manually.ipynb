{
 "cells": [
  {
   "cell_type": "code",
   "execution_count": 5,
   "metadata": {},
   "outputs": [],
   "source": [
    "def epoch_find(m,c,x1,d,n,a,b,sse,sse_p):\n",
    "    theta1 = m\n",
    "    theta0 = c\n",
    "    count = 0\n",
    "    percentile = 100\n",
    "    \n",
    "    while(True):\n",
    "        x = x1\n",
    "        y = d\n",
    "        for i in range(0,n): \n",
    "            y1 = round(((theta1*x[i])+theta0),8)\n",
    "            error= round((y1-y[i]),8)\n",
    "            theta1 = round((theta1 - (0.01 * error * x[i])),8)\n",
    "            theta0 = round((theta0 - (0.01 * error)),8)\n",
    "            \n",
    "        print(\"epoch\",count+1)\n",
    "        print(theta1,theta0,y1,error)\n",
    "        a.append(theta0)\n",
    "        b.append(theta1)\n",
    "        s = calculate_sse(theta1,theta0,x,y,n)\n",
    "        sse.append(s)\n",
    "        \n",
    "        if(count == 0):\n",
    "            sse_p.append(100)\n",
    "        else:\n",
    "            percentile = round(((sse[count-1]-sse[count])/sse[count-1])*100 , 2)\n",
    "            if(percentile < 0):\n",
    "                break\n",
    "            sse_p.append(percentile)\n",
    "\n",
    "        count = count+1"
   ]
  },
  {
   "cell_type": "code",
   "execution_count": 6,
   "metadata": {},
   "outputs": [],
   "source": [
    "def calculate_sse(t1,t0,x,y,n):\n",
    "    sum = 0\n",
    "    for i in range(0,n):\n",
    "        y1 = round((t1*x[i] + t0),8)\n",
    "        error = y1-y[i]\n",
    "        sum += (error * error)\n",
    "    return round(sum,8)"
   ]
  },
  {
   "cell_type": "code",
   "execution_count": 7,
   "metadata": {},
   "outputs": [
    {
     "name": "stdout",
     "output_type": "stream",
     "text": [
      "epoch 1\n",
      "0.41007833 0.11881446 1.17460284 -3.82539716\n",
      "epoch 2\n",
      "0.62287156 0.18090761 2.69630461 -2.30369539\n",
      "epoch 3\n",
      "0.7332419 0.21354939 3.48616065 -1.51383935\n",
      "epoch 4\n",
      "0.79043861 0.23089749 3.89606832 -1.10393168\n",
      "epoch 5\n",
      "0.82003026 0.24030209 4.1087208 -0.8912792\n",
      "epoch 6\n",
      "0.83529119 0.24557924 4.21896645 -0.78103355\n",
      "epoch 7\n",
      "0.84311296 0.24871011 4.27604718 -0.72395282\n",
      "epoch 8\n",
      "0.84707346 0.25072329 4.30552782 -0.69447218\n"
     ]
    }
   ],
   "source": [
    "x=[1,2,4,3,5]\n",
    "y=[1,3,3,2,5]\n",
    "epoch_for_m = []\n",
    "epoch_for_c = []\n",
    "sse = []\n",
    "sse_percentile =[]\n",
    "n=5\n",
    "epoch_find(0,0,x,y,n,epoch_for_m,epoch_for_c,sse,sse_percentile)"
   ]
  },
  {
   "cell_type": "markdown",
   "metadata": {},
   "source": [
    "# all theta values\n"
   ]
  },
  {
   "cell_type": "code",
   "execution_count": 8,
   "metadata": {},
   "outputs": [
    {
     "name": "stdout",
     "output_type": "stream",
     "text": [
      "all the theta1 value\n",
      "[0.11881446, 0.18090761, 0.21354939, 0.23089749, 0.24030209, 0.24557924, 0.24871011, 0.25072329]\n"
     ]
    }
   ],
   "source": [
    "print(\"all the theta1 value\")\n",
    "print(epoch_for_m)\n"
   ]
  },
  {
   "cell_type": "code",
   "execution_count": 9,
   "metadata": {},
   "outputs": [
    {
     "name": "stdout",
     "output_type": "stream",
     "text": [
      "all the theta0 value\n",
      "[0.41007833, 0.62287156, 0.7332419, 0.79043861, 0.82003026, 0.83529119, 0.84311296, 0.84707346]\n"
     ]
    }
   ],
   "source": [
    "print(\"all the theta0 value\")\n",
    "print(epoch_for_c)"
   ]
  },
  {
   "cell_type": "code",
   "execution_count": 10,
   "metadata": {},
   "outputs": [
    {
     "name": "stdout",
     "output_type": "stream",
     "text": [
      "all the sum of square errors\n",
      "[14.44667658, 5.52982881, 3.19234722, 2.59651206, 2.45362001, 2.42423883, 2.42099651, 2.42248363]\n"
     ]
    }
   ],
   "source": [
    "print(\"all the sum of square errors\")\n",
    "print(sse)"
   ]
  },
  {
   "cell_type": "code",
   "execution_count": 11,
   "metadata": {},
   "outputs": [
    {
     "name": "stdout",
     "output_type": "stream",
     "text": [
      "all the percentiles to find the best fit\n",
      "[100, 61.72, 42.27, 18.66, 5.5, 1.2, 0.13]\n"
     ]
    }
   ],
   "source": [
    "print(\"all the percentiles to find the best fit\")\n",
    "print(sse_percentile)"
   ]
  },
  {
   "cell_type": "code",
   "execution_count": 16,
   "metadata": {},
   "outputs": [
    {
     "data": {
      "text/plain": [
       "[14.44667658,\n",
       " 5.52982881,\n",
       " 3.19234722,\n",
       " 2.59651206,\n",
       " 2.45362001,\n",
       " 2.42423883,\n",
       " 2.42099651]"
      ]
     },
     "execution_count": 16,
     "metadata": {},
     "output_type": "execute_result"
    }
   ],
   "source": [
    "ind_var=[]\n",
    "dep_var = []\n",
    "l = len(sse_percentile)\n",
    "for i in range(0,l):\n",
    "    ind_var.append(i+1)\n",
    "    dep_var.append(sse[i])\n",
    "dep_var"
   ]
  },
  {
   "cell_type": "code",
   "execution_count": 17,
   "metadata": {},
   "outputs": [
    {
     "data": {
      "image/png": "[encoded data removed]",
      "text/plain": [
       "<Figure size 432x288 with 1 Axes>"
      ]
     },
     "metadata": {
      "needs_background": "light"
     },
     "output_type": "display_data"
    }
   ],
   "source": [
    "#import numpy as np\n",
    "import matplotlib.pyplot as plt\n",
    "\n",
    "plt.plot(ind_var,dep_var)\n",
    "plt.show()"
   ]
  },
  {
   "cell_type": "code",
   "execution_count": null,
   "metadata": {},
   "outputs": [],
   "source": []
  }
 ],
 "metadata": {
  "kernelspec": {
   "display_name": "Python 3",
   "language": "python",
   "name": "python3"
  },
  "language_info": {
   "codemirror_mode": {
    "name": "ipython",
    "version": 3
   },
   "file_extension": ".py",
   "mimetype": "text/x-python",
   "name": "python",
   "nbconvert_exporter": "python",
   "pygments_lexer": "ipython3",
   "version": "3.8.3"
  }
 },
 "nbformat": 4,
 "nbformat_minor": 4
}
